{
 "cells": [
  {
   "cell_type": "code",
   "execution_count": 1,
   "metadata": {},
   "outputs": [],
   "source": [
    "text=\"I love football\"  #specify the text "
   ]
  },
  {
   "cell_type": "markdown",
   "metadata": {},
   "source": [
    "Encode each character in the text as hexadecimal 4 bytes"
   ]
  },
  {
   "cell_type": "code",
   "execution_count": 2,
   "metadata": {
    "scrolled": true
   },
   "outputs": [
    {
     "data": {
      "text/plain": [
       "['0x49',\n",
       " '0x20',\n",
       " '0x6c',\n",
       " '0x6f',\n",
       " '0x76',\n",
       " '0x65',\n",
       " '0x20',\n",
       " '0x66',\n",
       " '0x6f',\n",
       " '0x6f',\n",
       " '0x74',\n",
       " '0x62',\n",
       " '0x61',\n",
       " '0x6c',\n",
       " '0x6c']"
      ]
     },
     "execution_count": 2,
     "metadata": {},
     "output_type": "execute_result"
    }
   ],
   "source": [
    "encoded=[hex(s) for s in bytearray(text.encode())]   #Encode each character in the text as hexadecimal array \n",
    "encoded"
   ]
  },
  {
   "cell_type": "markdown",
   "metadata": {},
   "source": [
    "Take Every Four bytes from the hexadecimal array"
   ]
  },
  {
   "cell_type": "code",
   "execution_count": 3,
   "metadata": {},
   "outputs": [
    {
     "data": {
      "text/plain": [
       "['0x49206c6f', '0x76652066', '0x6f6f7462', '0x616c6c']"
      ]
     },
     "execution_count": 3,
     "metadata": {},
     "output_type": "execute_result"
    }
   ],
   "source": [
    "Byte5=[]     #combine every bytes to form an hexadecimal representation\n",
    "\n",
    "for e in range(0,len(encoded),4):\n",
    "    \n",
    "    en5=encoded[e:e+4]   #extract each encoded 5\n",
    "    \n",
    "    #Create a combination of the 5 bytes as str\n",
    "    s=\"0x\"\n",
    "    for i in en5:\n",
    "        s+=i[2:]\n",
    "        \n",
    "    Byte5.append(s)\n",
    "Byte5"
   ]
  },
  {
   "cell_type": "markdown",
   "metadata": {},
   "source": [
    "Check the last byte5 and check if its not up to 10 characters"
   ]
  },
  {
   "cell_type": "code",
   "execution_count": 4,
   "metadata": {},
   "outputs": [
    {
     "data": {
      "text/plain": [
       "['0x49206c6f', '0x76652066', '0x6f6f7462', '0x616c6c00']"
      ]
     },
     "execution_count": 4,
     "metadata": {},
     "output_type": "execute_result"
    }
   ],
   "source": [
    "b=Byte5[-1]\n",
    "\n",
    "if len(b)<10:\n",
    "    for i in range(10-len(b)):\n",
    "        b+=\"0\"\n",
    "Byte5[-1]=b\n",
    "Byte5"
   ]
  },
  {
   "cell_type": "markdown",
   "metadata": {},
   "source": [
    "Use the Formula to encode to base 85"
   ]
  },
  {
   "cell_type": "code",
   "execution_count": 5,
   "metadata": {},
   "outputs": [
    {
     "data": {
      "text/plain": [
       "'8K_hfG%De.Df9`,@;K`['"
      ]
     },
     "execution_count": 5,
     "metadata": {},
     "output_type": "execute_result"
    }
   ],
   "source": [
    "encodedstring=\"\"\n",
    "for t in Byte5:    \n",
    "    x=int(t,16)\n",
    "\n",
    "    N0 = int((x/52200625)%85)+33\n",
    "    N1 = int((x/614125 )%85)+33\n",
    "    N2 = int((x/7225 )%85)+33\n",
    "    N3 = int((x/85)%85)+33\n",
    "    N4 = int(x%85)+33\n",
    "\n",
    "    d=[N0,N1,N2,N3,N4]\n",
    "    estring=\"\".join(chr(i) for i in d)\n",
    "    \n",
    "    encodedstring+=estring\n",
    "encodedstring"
   ]
  },
  {
   "cell_type": "code",
   "execution_count": 6,
   "metadata": {},
   "outputs": [
    {
     "data": {
      "text/plain": [
       "'I love football'"
      ]
     },
     "execution_count": 6,
     "metadata": {},
     "output_type": "execute_result"
    }
   ],
   "source": [
    "p=[ord(i)-33 for i in encodedstring]\n",
    "\n",
    "r=\"\"\n",
    "for i in range(0,len(p),5):\n",
    "    pp=p[i:i+5]\n",
    "    if len(pp)<5:\n",
    "        e=[]\n",
    "        for j in range(5-len(pp)):\n",
    "            e.append(117)\n",
    "        pp=pp+e\n",
    "    f=(pp[0])* (85**4) + (pp[1])* (85**3) + (pp[2])* (85**2) + (pp[3])*(85**1) + (pp[4])\n",
    "    w=hex(f)\n",
    "\n",
    "    m=w[2:]\n",
    "\n",
    "    r+=(bytearray.fromhex(m).decode())\n",
    "\n",
    "r.split(\"\\x00\")[0]"
   ]
  },
  {
   "cell_type": "code",
   "execution_count": null,
   "metadata": {},
   "outputs": [],
   "source": []
  },
  {
   "cell_type": "code",
   "execution_count": null,
   "metadata": {},
   "outputs": [],
   "source": []
  }
 ],
 "metadata": {
  "kernelspec": {
   "display_name": "Python 3",
   "language": "python",
   "name": "python3"
  },
  "language_info": {
   "codemirror_mode": {
    "name": "ipython",
    "version": 3
   },
   "file_extension": ".py",
   "mimetype": "text/x-python",
   "name": "python",
   "nbconvert_exporter": "python",
   "pygments_lexer": "ipython3",
   "version": "3.6.5"
  }
 },
 "nbformat": 4,
 "nbformat_minor": 2
}
